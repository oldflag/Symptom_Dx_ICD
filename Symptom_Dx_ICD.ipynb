{
  "nbformat": 4,
  "nbformat_minor": 0,
  "metadata": {
    "colab": {
      "provenance": [],
      "gpuType": "T4",
      "mount_file_id": "1z4hiJ_sUoLeV3XOaTrMS_V1fXur3zITn",
      "authorship_tag": "ABX9TyMizqwODqpIS90oWqVndS/k",
      "include_colab_link": true
    },
    "kernelspec": {
      "name": "python3",
      "display_name": "Python 3"
    },
    "language_info": {
      "name": "python"
    },
    "accelerator": "GPU"
  },
  "cells": [
    {
      "cell_type": "markdown",
      "metadata": {
        "id": "view-in-github",
        "colab_type": "text"
      },
      "source": [
        "<a href=\"https://colab.research.google.com/github/oldflag/Symptom_Dx_ICD/blob/main/Symptom_Dx_ICD.ipynb\" target=\"_parent\"><img src=\"https://colab.research.google.com/assets/colab-badge.svg\" alt=\"Open In Colab\"/></a>"
      ]
    },
    {
      "cell_type": "code",
      "execution_count": 33,
      "metadata": {
        "id": "VLggA9IBTRJV"
      },
      "outputs": [],
      "source": [
        "from google.colab import userdata\n",
        "HF_KEY = userdata.get('HF_TOKEN')\n",
        "TRANSFORMERS_CACHE = userdata.get('TRANSFORMERS_CACHE')\n",
        "HF_HOME = userdata.get('HF_HOME')\n",
        "OPENAI_API_KEY = userdata.get('OPENAI_API_KEY')\n",
        "import os\n",
        "os.environ['OPENAI_API_KEY'] = OPENAI_API_KEY"
      ]
    },
    {
      "cell_type": "code",
      "source": [
        "!pip install \"unsloth[colab-new] @ git+https://github.com/unslothai/unsloth.git\"\n",
        "!pip install --no-deps xformers \"trl<0.9.0\" peft accelerate bitsandbytes"
      ],
      "metadata": {
        "id": "iTCDIsPGXoFu"
      },
      "execution_count": null,
      "outputs": []
    },
    {
      "cell_type": "code",
      "source": [
        "!pip install langchain openai huggingface_hub langchain_community langchain_openai faiss-gpu"
      ],
      "metadata": {
        "collapsed": true,
        "id": "QWQqXNYIYMR_"
      },
      "execution_count": null,
      "outputs": []
    },
    {
      "cell_type": "markdown",
      "source": [],
      "metadata": {
        "id": "UvCSHXhTmx-k"
      }
    },
    {
      "cell_type": "code",
      "source": [
        "from langchain_community.llms.huggingface_pipeline import HuggingFacePipeline\n",
        "\n",
        "hf = HuggingFacePipeline.from_model_id(\n",
        "    model_id=\"oldflag/symptom_dx_finetue_Llama-3_8b_Unsloth\",\n",
        "    task=\"text-generation\",\n",
        "    pipeline_kwargs={\"max_new_tokens\": 128},\n",
        ")"
      ],
      "metadata": {
        "id": "1lvjaxlZVmTV"
      },
      "execution_count": null,
      "outputs": []
    },
    {
      "cell_type": "code",
      "source": [
        "from langchain_community.llms.huggingface_pipeline import HuggingFacePipeline\n",
        "from transformers import AutoModelForCausalLM, AutoTokenizer, pipeline\n",
        "\n",
        "model_id = \"oldflag/symptom_dx_finetue_Llama-3_8b_Unsloth\"\n",
        "tokenizer = AutoTokenizer.from_pretrained(\n",
        "    model_id\n",
        ")\n",
        "model = AutoModelForCausalLM.from_pretrained(model_id)\n",
        "pipe = pipeline(\"text-generation\", model=model,\n",
        "                tokenizer=tokenizer, max_new_tokens=512)\n",
        "\n",
        "hf = HuggingFacePipeline(pipeline=pipe)"
      ],
      "metadata": {
        "id": "7id4pHejfmJM"
      },
      "execution_count": null,
      "outputs": []
    },
    {
      "cell_type": "code",
      "source": [
        "from langchain.prompts import PromptTemplate\n",
        "from langchain_core.output_parsers import StrOutputParser\n",
        "\n",
        "template = \"\"\"Below is an instruction that describes a task, paired with an input that provides further context. Write a response that appropriately completes the request.\n",
        "\n",
        "### Instruction:\n",
        "Based on the following symptoms, suggest a possible diagnosis\n",
        "\n",
        "### Input:\n",
        "{input}\n",
        "\n",
        "### Response:\n",
        "\n",
        "\"\"\"\n",
        "prompt = PromptTemplate.from_template(template)\n",
        "\n",
        "# chain\n",
        "chain = prompt | hf | StrOutputParser()\n",
        "\n"
      ],
      "metadata": {
        "id": "mSpYoysCgGOR"
      },
      "execution_count": 6,
      "outputs": []
    },
    {
      "cell_type": "code",
      "source": [
        "symptom = \"I have a skin rash that gets worse in the winter when the air is dry. I have to moisturize more regularly and use humidifiers to keep my skin moisturized. I also have joint pain\"\n",
        "\n",
        "\n",
        "print(\n",
        "    chain.invoke({\"input\": symptom})\n",
        ")"
      ],
      "metadata": {
        "colab": {
          "base_uri": "https://localhost:8080/"
        },
        "id": "vHvibBUNhjH9",
        "outputId": "540d68a6-a84b-404e-f4c8-325858ebcbbb"
      },
      "execution_count": 7,
      "outputs": [
        {
          "output_type": "stream",
          "name": "stdout",
          "text": [
            "Below is an instruction that describes a task, paired with an input that provides further context. Write a response that appropriately completes the request.\n",
            "\n",
            "### Instruction:\n",
            "Based on the following symptoms, suggest a possible diagnosis\n",
            "\n",
            "### Input:\n",
            "I have a skin rash that gets worse in the winter when the air is dry. I have to moisturize more regularly and use humidifiers to keep my skin moisturized. I also have joint pain\n",
            "\n",
            "### Response:\n",
            "\n",
            "psoriasis\n"
          ]
        }
      ]
    },
    {
      "cell_type": "code",
      "source": [
        "import sys\n",
        "dir = \"\"\"/content/drive/MyDrive/Colab Notebooks/LangChains/\"\"\"\n",
        "sys.path.append(dir)\n",
        "from rag_icdcoding import *\n"
      ],
      "metadata": {
        "id": "EONuP3pni80m"
      },
      "execution_count": 26,
      "outputs": []
    },
    {
      "cell_type": "code",
      "source": [
        "icdfile_path = '/content/drive/MyDrive/Colab Notebooks/LangChains/icd10cm_order_2024_top100.txt'  # only first 100 rows for testing\n",
        "icd10_df = parse_icd10_description(icdfile_path)\n",
        "data = load_dfdata(icd10_df)\n",
        "vectordb = create_vectorstore(data)\n",
        "# Initialize the language model (LLM)\n",
        "llm = ChatOpenAI(model='gpt-3.5-turbo', temperature=0)\n",
        "chain_demo = extract_demo(llm, vectordb)\n",
        "chain_icd = extract_icd(llm, vectordb)\n"
      ],
      "metadata": {
        "id": "DoHw7XYFkOBh"
      },
      "execution_count": 36,
      "outputs": []
    },
    {
      "cell_type": "code",
      "source": [
        "note1 = \"\"\"\n",
        "Patient Name: John Doe1\n",
        "Date of Birth: 01/15/1980\n",
        "Visit Date: 06/11/2024\n",
        "Provider: Dr. Jane Smith\n",
        "\n",
        "Chief Complaint:\n",
        "Fever, abdominal pain, and diarrhea for five days.\n",
        "\n",
        "History of Present Illness:\n",
        "John Doe, 44, reports high fever, severe abdominal cramps, and persistent diarrhea. Symptoms began five days ago and have worsened. Denies recent travel but consumed undercooked poultry a week ago.\n",
        "\n",
        "Physical Examination:\n",
        "\n",
        "    • Temperature: 102.2°F\n",
        "    • Abdomen: Tenderness in the right lower quadrant with guarding.\n",
        "\n",
        "Assessment and Plan:\n",
        "\n",
        "    1. typhoid fever.\n",
        "    • Order blood cultures and stool tests.\n",
        "    • Start empiric antibiotic therapy with ceftriaxone.\n",
        "    2. Salmonella enteritis.\n",
        "    • Maintain hydration with oral rehydration solutions.\n",
        "    • Educate on safe food handling and proper cooking techniques.\n",
        "\n",
        "Follow-Up:\n",
        "Return in 48 hours for follow-up and test results review. Immediate return if symptoms worsen.\n",
        "\n",
        "Signature:\n",
        "Dr. Jane Smith, MD\n",
        "\n",
        "\"\"\"\n",
        "# assessment = create_chain_2(llm, note1)\n",
        "# print(assessment)\n",
        "assessment = extract_assessment(llm, note1)\n",
        "print(chain_demo.invoke(note1))\n",
        "print(chain_icd.invoke(assessment))"
      ],
      "metadata": {
        "colab": {
          "base_uri": "https://localhost:8080/"
        },
        "id": "JR0-oroKp_ch",
        "outputId": "82c171c2-3a9e-4432-ade5-9131fdfe1dc5"
      },
      "execution_count": 37,
      "outputs": [
        {
          "output_type": "stream",
          "name": "stdout",
          "text": [
            "Patient Name: John Doe\n",
            "Age: 44\n",
            "Based on the provided note, the related ICD codes are as follows:\n",
            "\n",
            "1. Typhoid fever: ICD-10 Code A010\n",
            "2. Salmonella enteritis: ICD-10 Code A020\n"
          ]
        }
      ]
    },
    {
      "cell_type": "code",
      "source": [
        "chain_icd.invoke(\"psoriasis\")"
      ],
      "metadata": {
        "colab": {
          "base_uri": "https://localhost:8080/",
          "height": 52
        },
        "id": "8S2k6xU1qLsz",
        "outputId": "265ee534-ef18-4c73-ebf5-15e5645060ea"
      },
      "execution_count": 38,
      "outputs": [
        {
          "output_type": "execute_result",
          "data": {
            "text/plain": [
              "'Based on the provided note, the related ICD codes for psoriasis would be:\\n- A074 for Cyclosporiasis\\n- A073 for Isosporiasis\\n- A067 for Cutaneous amebiasis\\n\\nThese are the closest matches based on the information provided.'"
            ],
            "application/vnd.google.colaboratory.intrinsic+json": {
              "type": "string"
            }
          },
          "metadata": {},
          "execution_count": 38
        }
      ]
    }
  ]
}