{
  "nbformat": 4,
  "nbformat_minor": 0,
  "metadata": {
    "colab": {
      "provenance": [],
      "gpuType": "T4",
      "mount_file_id": "1z4hiJ_sUoLeV3XOaTrMS_V1fXur3zITn",
      "authorship_tag": "ABX9TyM5TzlOMRlgw59Paa4iGBZt",
      "include_colab_link": true
    },
    "kernelspec": {
      "name": "python3",
      "display_name": "Python 3"
    },
    "language_info": {
      "name": "python"
    },
    "accelerator": "GPU"
  },
  "cells": [
    {
      "cell_type": "markdown",
      "metadata": {
        "id": "view-in-github",
        "colab_type": "text"
      },
      "source": [
        "<a href=\"https://colab.research.google.com/github/oldflag/Symptom_Dx_ICD/blob/main/Symptom_Dx_ICD.ipynb\" target=\"_parent\"><img src=\"https://colab.research.google.com/assets/colab-badge.svg\" alt=\"Open In Colab\"/></a>"
      ]
    },
    {
      "cell_type": "markdown",
      "source": [
        "\n",
        "## Project Overview\n",
        "\n",
        "In this simple clinical setting, the process is straightforward:\n",
        "\n",
        "\n",
        "1. A patient visits a doctor’s office and describes their symptoms.\n",
        "2. The physician writes a diagnosis in the visit note.\n",
        "3. Medical coders extract ICD codes for the diagnoses from the visit note.\n",
        "\n",
        "This project aims to simplify and implement this clinical scenario using Large Language Models (LLMs), Retrieval-Augmented Generation (RAG), and fine-tuning techniques. It integrates and builds upon my previous two GitHub projects: [FineTuning_Llama_3_8b_Symptom_Dx](https://github.com/oldflag/FineTuning_Llama_3_8b_Symptom_Dx) and [GenAI_RAG_ICDcoding](https://github.com/oldflag/GenAI_RAG_ICDcoding).\n",
        "\n",
        "## Previous Projects Integration\n",
        "\n",
        "### FineTuning_Llama_3_8b_Symptom_Dx:\n",
        "In this project, I fine-tuned the Llama 3 8b model with symptom and diagnosis Q&A data. The goal was to enable the model to provide accurate diagnoses based on given symptom descriptions.\n",
        "\n",
        "### GenAI_RAG_ICDcoding:\n",
        "In this project, I developed an RAG application using OpenAI ChatGPT APIs and a subset of ICD code descriptions from CMS. The application is designed to extract and suggest appropriate ICD codes based on clinical notes.\n",
        "\n",
        "## Project Goals\n",
        "\n",
        "This project combines the strengths of the above two projects to create a comprehensive solution for clinical note processing. The primary objectives are:\n",
        "\n",
        "* Symptom to Diagnosis: Utilizing the fine-tuned Llama 3 8b model to interpret patient symptoms and provide probable diagnoses.\n",
        "* Diagnosis to ICD Coding: Implementing an RAG approach to accurately extract ICD codes from the diagnoses mentioned in clinical notes.\n",
        "\n",
        "By integrating these advanced AI techniques, this project aims to streamline the workflow in clinical settings, enhancing the efficiency and accuracy of medical coding"
      ],
      "metadata": {
        "id": "v_r12hSB_ICd"
      }
    },
    {
      "cell_type": "code",
      "source": [
        "# install necessary packages\n",
        "!pip install \"unsloth[colab-new] @ git+https://github.com/unslothai/unsloth.git\"\n",
        "!pip install --no-deps xformers \"trl<0.9.0\" peft accelerate bitsandbytes\n",
        "!pip install langchain openai huggingface_hub langchain_community langchain_openai faiss-gpu"
      ],
      "metadata": {
        "id": "iTCDIsPGXoFu"
      },
      "execution_count": null,
      "outputs": []
    },
    {
      "cell_type": "code",
      "execution_count": 33,
      "metadata": {
        "id": "VLggA9IBTRJV"
      },
      "outputs": [],
      "source": [
        "# set up environment varialbes for CoLab\n",
        "\n",
        "import os\n",
        "from google.colab import userdata\n",
        "\n",
        "HF_KEY = userdata.get('HF_TOKEN')\n",
        "TRANSFORMERS_CACHE = userdata.get('TRANSFORMERS_CACHE')\n",
        "HF_HOME = userdata.get('HF_HOME')\n",
        "os.environ['LANGCHAIN_TRACING_V2'] = userdata.get('LANGCHAIN_TRACING_V2')\n",
        "os.environ['OPENAI_API_KEY'] = userdata.get('OPENAI_API_KEY')\n",
        "os.environ['LANGCHAIN_API_KEY'] = userdata.get('LANGCHAIN_API_KEY')\n",
        "os.environ['LANGCHAIN_ENDPOINT'] = userdata.get('LANGCHAIN_ENDPOINT')\n"
      ]
    },
    {
      "cell_type": "markdown",
      "source": [],
      "metadata": {
        "id": "UvCSHXhTmx-k"
      }
    },
    {
      "cell_type": "code",
      "source": [
        "# Getting the finetuned model from HuggingFace\n",
        "from langchain_community.llms.huggingface_pipeline import HuggingFacePipeline\n",
        "from transformers import AutoModelForCausalLM, AutoTokenizer, pipeline\n",
        "\n",
        "model_id = \"oldflag/symptom_dx_finetue_Llama-3_8b_Unsloth\"\n",
        "tokenizer = AutoTokenizer.from_pretrained(\n",
        "    model_id\n",
        ")\n",
        "model = AutoModelForCausalLM.from_pretrained(model_id)\n",
        "pipe = pipeline(\"text-generation\", model=model,\n",
        "                tokenizer=tokenizer, max_new_tokens=512)\n",
        "\n",
        "hf = HuggingFacePipeline(pipeline=pipe)"
      ],
      "metadata": {
        "id": "7id4pHejfmJM"
      },
      "execution_count": null,
      "outputs": []
    },
    {
      "cell_type": "code",
      "source": [
        "# set up langchain to get response with diagnoses from symptom input\n",
        "from langchain.prompts import PromptTemplate\n",
        "from langchain_core.output_parsers import StrOutputParser\n",
        "\n",
        "template = \"\"\"Below is an instruction that describes a task, paired with an input that provides further context. Write a response that appropriately completes the request.\n",
        "\n",
        "### Instruction:\n",
        "Based on the following symptoms, suggest  possible diagnoses\n",
        "\n",
        "### Input:\n",
        "{input}\n",
        "\n",
        "### Response:\n",
        "\n",
        "\"\"\"\n",
        "prompt = PromptTemplate.from_template(template)\n",
        "\n",
        "# chain\n",
        "chain_Dx = prompt | hf | StrOutputParser()\n",
        "\n"
      ],
      "metadata": {
        "id": "mSpYoysCgGOR"
      },
      "execution_count": 6,
      "outputs": []
    },
    {
      "cell_type": "code",
      "source": [
        "# set up a path for Colab\n",
        "import sys\n",
        "dir = \"\"\"/content/drive/MyDrive/Colab Notebooks/LangChains/\"\"\"\n",
        "sys.path.append(dir)\n",
        "from rag_icdcoding import *\n"
      ],
      "metadata": {
        "id": "EONuP3pni80m"
      },
      "execution_count": 26,
      "outputs": []
    },
    {
      "cell_type": "code",
      "source": [
        "# set up RAG with an OpenAI gpt model and ICD description\n",
        "icdfile_path = '/content/drive/MyDrive/Colab Notebooks/LangChains/icd10cm_order_2024_top100.txt'  # only first 100 rows for testing\n",
        "icd10_df = parse_icd10_description(icdfile_path)\n",
        "data = load_dfdata(icd10_df)\n",
        "vectordb = create_vectorstore(data)\n",
        "# Initialize the language model (LLM)\n",
        "llm = ChatOpenAI(model='gpt-3.5-turbo', temperature=0)\n",
        "chain_demo = extract_demo(llm, vectordb)\n",
        "chain_icd = extract_icd(llm, vectordb)\n"
      ],
      "metadata": {
        "id": "DoHw7XYFkOBh"
      },
      "execution_count": 36,
      "outputs": []
    },
    {
      "cell_type": "code",
      "source": [
        "#symptom > diagnosis > ICD code\n",
        "\n",
        "# input: symptom\n",
        "symptom = \"I have a skin rash that gets worse in the winter when the air is dry. I have to moisturize more regularly and use humidifiers to keep my skin moisturized. I also have joint pain\"\n",
        "\n",
        "# from symptom to diagnoses\n",
        "diagnoses = chain_Dx.invoke({\"input\": symptom})\n",
        "\n",
        "# from diagnoses to ICD codes\n",
        "icds = chain_icd.invoke(diagnoses)\n",
        "\n",
        "print(diagnoses)\n",
        "print(icds)"
      ],
      "metadata": {
        "colab": {
          "base_uri": "https://localhost:8080/"
        },
        "id": "vHvibBUNhjH9",
        "outputId": "540d68a6-a84b-404e-f4c8-325858ebcbbb"
      },
      "execution_count": 7,
      "outputs": [
        {
          "output_type": "stream",
          "name": "stdout",
          "text": [
            "Below is an instruction that describes a task, paired with an input that provides further context. Write a response that appropriately completes the request.\n",
            "\n",
            "### Instruction:\n",
            "Based on the following symptoms, suggest a possible diagnosis\n",
            "\n",
            "### Input:\n",
            "I have a skin rash that gets worse in the winter when the air is dry. I have to moisturize more regularly and use humidifiers to keep my skin moisturized. I also have joint pain\n",
            "\n",
            "### Response:\n",
            "\n",
            "psoriasis\n"
          ]
        }
      ]
    },
    {
      "cell_type": "code",
      "source": [],
      "metadata": {
        "colab": {
          "base_uri": "https://localhost:8080/",
          "height": 52
        },
        "id": "8S2k6xU1qLsz",
        "outputId": "265ee534-ef18-4c73-ebf5-15e5645060ea"
      },
      "execution_count": 38,
      "outputs": [
        {
          "output_type": "execute_result",
          "data": {
            "text/plain": [
              "'Based on the provided note, the related ICD codes for psoriasis would be:\\n- A074 for Cyclosporiasis\\n- A073 for Isosporiasis\\n- A067 for Cutaneous amebiasis\\n\\nThese are the closest matches based on the information provided.'"
            ],
            "application/vnd.google.colaboratory.intrinsic+json": {
              "type": "string"
            }
          },
          "metadata": {},
          "execution_count": 38
        }
      ]
    }
  ]
}